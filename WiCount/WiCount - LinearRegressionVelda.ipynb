{
 "cells": [
  {
   "cell_type": "markdown",
   "metadata": {},
   "source": [
    "## Reading data from CSV"
   ]
  },
  {
   "cell_type": "code",
   "execution_count": 6,
   "metadata": {
    "collapsed": false,
    "scrolled": true
   },
   "outputs": [
    {
     "data": {
      "text/html": [
       "<div>\n",
       "<table border=\"1\" class=\"dataframe\">\n",
       "  <thead>\n",
       "    <tr style=\"text-align: right;\">\n",
       "      <th></th>\n",
       "      <th>room_id</th>\n",
       "      <th>Room</th>\n",
       "      <th>Capacity</th>\n",
       "      <th>Date</th>\n",
       "      <th>SurveyPercentage</th>\n",
       "      <th>GroundTruth</th>\n",
       "      <th>MaxCount</th>\n",
       "      <th>AverageCount</th>\n",
       "      <th>MedianCount</th>\n",
       "      <th>ModeCount</th>\n",
       "    </tr>\n",
       "  </thead>\n",
       "  <tbody>\n",
       "    <tr>\n",
       "      <th>0</th>\n",
       "      <td>3</td>\n",
       "      <td>B-004</td>\n",
       "      <td>160</td>\n",
       "      <td>2015-11-03 09:00:00</td>\n",
       "      <td>0.75</td>\n",
       "      <td>120</td>\n",
       "      <td>130</td>\n",
       "      <td>102.250000</td>\n",
       "      <td>120.5</td>\n",
       "      <td>62</td>\n",
       "    </tr>\n",
       "    <tr>\n",
       "      <th>1</th>\n",
       "      <td>1</td>\n",
       "      <td>B-002</td>\n",
       "      <td>90</td>\n",
       "      <td>2015-11-03 09:00:00</td>\n",
       "      <td>0.00</td>\n",
       "      <td>0</td>\n",
       "      <td>21</td>\n",
       "      <td>4.750000</td>\n",
       "      <td>2.0</td>\n",
       "      <td>2</td>\n",
       "    </tr>\n",
       "    <tr>\n",
       "      <th>2</th>\n",
       "      <td>2</td>\n",
       "      <td>B-003</td>\n",
       "      <td>90</td>\n",
       "      <td>2015-11-03 09:00:00</td>\n",
       "      <td>0.00</td>\n",
       "      <td>0</td>\n",
       "      <td>9</td>\n",
       "      <td>2.583333</td>\n",
       "      <td>2.0</td>\n",
       "      <td>2</td>\n",
       "    </tr>\n",
       "    <tr>\n",
       "      <th>3</th>\n",
       "      <td>3</td>\n",
       "      <td>B-004</td>\n",
       "      <td>160</td>\n",
       "      <td>2015-11-03 10:00:00</td>\n",
       "      <td>0.50</td>\n",
       "      <td>80</td>\n",
       "      <td>108</td>\n",
       "      <td>96.909091</td>\n",
       "      <td>102.0</td>\n",
       "      <td>53</td>\n",
       "    </tr>\n",
       "    <tr>\n",
       "      <th>4</th>\n",
       "      <td>1</td>\n",
       "      <td>B-002</td>\n",
       "      <td>90</td>\n",
       "      <td>2015-11-03 10:00:00</td>\n",
       "      <td>0.50</td>\n",
       "      <td>45</td>\n",
       "      <td>32</td>\n",
       "      <td>29.272727</td>\n",
       "      <td>29.0</td>\n",
       "      <td>28</td>\n",
       "    </tr>\n",
       "  </tbody>\n",
       "</table>\n",
       "</div>"
      ],
      "text/plain": [
       "   room_id   Room  Capacity                 Date  SurveyPercentage  \\\n",
       "0        3  B-004       160  2015-11-03 09:00:00              0.75   \n",
       "1        1  B-002        90  2015-11-03 09:00:00              0.00   \n",
       "2        2  B-003        90  2015-11-03 09:00:00              0.00   \n",
       "3        3  B-004       160  2015-11-03 10:00:00              0.50   \n",
       "4        1  B-002        90  2015-11-03 10:00:00              0.50   \n",
       "\n",
       "   GroundTruth  MaxCount  AverageCount  MedianCount  ModeCount  \n",
       "0          120       130    102.250000        120.5         62  \n",
       "1            0        21      4.750000          2.0          2  \n",
       "2            0         9      2.583333          2.0          2  \n",
       "3           80       108     96.909091        102.0         53  \n",
       "4           45        32     29.272727         29.0         28  "
      ]
     },
     "execution_count": 6,
     "metadata": {},
     "output_type": "execute_result"
    }
   ],
   "source": [
    "import pandas as pd\n",
    "import numpy as np\n",
    "import matplotlib.pyplot as plt\n",
    "import statsmodels.formula.api as sm\n",
    "from sklearn.linear_model import LinearRegression\n",
    "from scipy import stats\n",
    "import sqlite3 as lite\n",
    "\n",
    "%matplotlib inline\n",
    "\n",
    "# Read csv file into a dataframe.\n",
    "try:\n",
    "    df = pd.read_csv('Final_hour_dataset.csv', index_col=0)\n",
    "except OSError:\n",
    "    print(\"Filename not found!\")\n",
    "except Exception as e: print(e)\n",
    "\n",
    "# index_col parmeter removes the 'unnamed column' which is added when reading from a csv\n",
    "df.head()"
   ]
  },
  {
   "cell_type": "code",
   "execution_count": 7,
   "metadata": {
    "collapsed": false
   },
   "outputs": [
    {
     "data": {
      "text/plain": [
       "(216, 10)"
      ]
     },
     "execution_count": 7,
     "metadata": {},
     "output_type": "execute_result"
    }
   ],
   "source": [
    "df.shape"
   ]
  },
  {
   "cell_type": "code",
   "execution_count": 8,
   "metadata": {
    "collapsed": false
   },
   "outputs": [
    {
     "data": {
      "text/plain": [
       "room_id               int64\n",
       "Room                 object\n",
       "Capacity              int64\n",
       "Date                 object\n",
       "SurveyPercentage    float64\n",
       "GroundTruth         float64\n",
       "MaxCount              int64\n",
       "AverageCount        float64\n",
       "MedianCount         float64\n",
       "ModeCount             int64\n",
       "dtype: object"
      ]
     },
     "execution_count": 8,
     "metadata": {},
     "output_type": "execute_result"
    }
   ],
   "source": [
    "df.dtypes"
   ]
  },
  {
   "cell_type": "code",
   "execution_count": 9,
   "metadata": {
    "collapsed": false
   },
   "outputs": [
    {
     "data": {
      "text/plain": [
       "room_id             0\n",
       "Room                0\n",
       "Capacity            0\n",
       "Date                0\n",
       "SurveyPercentage    0\n",
       "GroundTruth         0\n",
       "MaxCount            0\n",
       "AverageCount        0\n",
       "MedianCount         0\n",
       "ModeCount           0\n",
       "dtype: int64"
      ]
     },
     "execution_count": 9,
     "metadata": {},
     "output_type": "execute_result"
    }
   ],
   "source": [
    "df.isnull().sum()"
   ]
  },
  {
   "cell_type": "markdown",
   "metadata": {},
   "source": [
    "We're trying to measure a relationship between connected WiFi hosts (MaxCount) and the ground truth data (Capacity * Survey Percentage) so we need a new column called 'GroundTruth'.\n",
    "\n",
    "For now we only need a simple model so we will ignore module codes/students registered etc."
   ]
  },
  {
   "cell_type": "code",
   "execution_count": 11,
   "metadata": {
    "collapsed": false
   },
   "outputs": [
    {
     "data": {
      "text/html": [
       "<div>\n",
       "<table border=\"1\" class=\"dataframe\">\n",
       "  <thead>\n",
       "    <tr style=\"text-align: right;\">\n",
       "      <th></th>\n",
       "      <th>room_id</th>\n",
       "      <th>Room</th>\n",
       "      <th>Capacity</th>\n",
       "      <th>Date</th>\n",
       "      <th>SurveyPercentage</th>\n",
       "      <th>GroundTruth</th>\n",
       "      <th>MaxCount</th>\n",
       "      <th>AverageCount</th>\n",
       "      <th>MedianCount</th>\n",
       "      <th>ModeCount</th>\n",
       "    </tr>\n",
       "  </thead>\n",
       "  <tbody>\n",
       "    <tr>\n",
       "      <th>0</th>\n",
       "      <td>3</td>\n",
       "      <td>B-004</td>\n",
       "      <td>160</td>\n",
       "      <td>2015-11-03 09:00:00</td>\n",
       "      <td>75</td>\n",
       "      <td>120</td>\n",
       "      <td>130</td>\n",
       "      <td>102.250000</td>\n",
       "      <td>120.5</td>\n",
       "      <td>62</td>\n",
       "    </tr>\n",
       "    <tr>\n",
       "      <th>1</th>\n",
       "      <td>1</td>\n",
       "      <td>B-002</td>\n",
       "      <td>90</td>\n",
       "      <td>2015-11-03 09:00:00</td>\n",
       "      <td>0</td>\n",
       "      <td>0</td>\n",
       "      <td>21</td>\n",
       "      <td>4.750000</td>\n",
       "      <td>2.0</td>\n",
       "      <td>2</td>\n",
       "    </tr>\n",
       "    <tr>\n",
       "      <th>2</th>\n",
       "      <td>2</td>\n",
       "      <td>B-003</td>\n",
       "      <td>90</td>\n",
       "      <td>2015-11-03 09:00:00</td>\n",
       "      <td>0</td>\n",
       "      <td>0</td>\n",
       "      <td>9</td>\n",
       "      <td>2.583333</td>\n",
       "      <td>2.0</td>\n",
       "      <td>2</td>\n",
       "    </tr>\n",
       "    <tr>\n",
       "      <th>3</th>\n",
       "      <td>3</td>\n",
       "      <td>B-004</td>\n",
       "      <td>160</td>\n",
       "      <td>2015-11-03 10:00:00</td>\n",
       "      <td>50</td>\n",
       "      <td>80</td>\n",
       "      <td>108</td>\n",
       "      <td>96.909091</td>\n",
       "      <td>102.0</td>\n",
       "      <td>53</td>\n",
       "    </tr>\n",
       "    <tr>\n",
       "      <th>4</th>\n",
       "      <td>1</td>\n",
       "      <td>B-002</td>\n",
       "      <td>90</td>\n",
       "      <td>2015-11-03 10:00:00</td>\n",
       "      <td>50</td>\n",
       "      <td>45</td>\n",
       "      <td>32</td>\n",
       "      <td>29.272727</td>\n",
       "      <td>29.0</td>\n",
       "      <td>28</td>\n",
       "    </tr>\n",
       "  </tbody>\n",
       "</table>\n",
       "</div>"
      ],
      "text/plain": [
       "   room_id   Room  Capacity                 Date  SurveyPercentage  \\\n",
       "0        3  B-004       160  2015-11-03 09:00:00                75   \n",
       "1        1  B-002        90  2015-11-03 09:00:00                 0   \n",
       "2        2  B-003        90  2015-11-03 09:00:00                 0   \n",
       "3        3  B-004       160  2015-11-03 10:00:00                50   \n",
       "4        1  B-002        90  2015-11-03 10:00:00                50   \n",
       "\n",
       "   GroundTruth  MaxCount  AverageCount  MedianCount  ModeCount  \n",
       "0          120       130    102.250000        120.5         62  \n",
       "1            0        21      4.750000          2.0          2  \n",
       "2            0         9      2.583333          2.0          2  \n",
       "3           80       108     96.909091        102.0         53  \n",
       "4           45        32     29.272727         29.0         28  "
      ]
     },
     "execution_count": 11,
     "metadata": {},
     "output_type": "execute_result"
    }
   ],
   "source": [
    "df['SurveyPercentage'] = df['SurveyPercentage'].apply(lambda x: x*100)\n",
    "\n",
    "df.head()"
   ]
  },
  {
   "cell_type": "markdown",
   "metadata": {},
   "source": [
    "### Measure correlation between connected devices and ground truth columns"
   ]
  },
  {
   "cell_type": "code",
   "execution_count": 13,
   "metadata": {
    "collapsed": false
   },
   "outputs": [
    {
     "data": {
      "text/plain": [
       "0.70134791276394559"
      ]
     },
     "execution_count": 13,
     "metadata": {},
     "output_type": "execute_result"
    }
   ],
   "source": [
    "df[['MaxCount', 'GroundTruth']].corr().as_matrix()[0,1]"
   ]
  },
  {
   "cell_type": "code",
   "execution_count": 14,
   "metadata": {
    "collapsed": false
   },
   "outputs": [
    {
     "data": {
      "text/plain": [
       "0.72596553734510105"
      ]
     },
     "execution_count": 14,
     "metadata": {},
     "output_type": "execute_result"
    }
   ],
   "source": [
    "df[['AverageCount', 'GroundTruth']].corr().as_matrix()[0,1]"
   ]
  },
  {
   "cell_type": "code",
   "execution_count": 15,
   "metadata": {
    "collapsed": false
   },
   "outputs": [
    {
     "data": {
      "text/plain": [
       "0.74131596987918158"
      ]
     },
     "execution_count": 15,
     "metadata": {},
     "output_type": "execute_result"
    }
   ],
   "source": [
    "df[['MedianCount', 'GroundTruth']].corr().as_matrix()[0,1]"
   ]
  },
  {
   "cell_type": "code",
   "execution_count": 16,
   "metadata": {
    "collapsed": false
   },
   "outputs": [
    {
     "data": {
      "text/plain": [
       "0.55880477891272762"
      ]
     },
     "execution_count": 16,
     "metadata": {},
     "output_type": "execute_result"
    }
   ],
   "source": [
    "df[['ModeCount', 'GroundTruth']].corr().as_matrix()[0,1]"
   ]
  },
  {
   "cell_type": "markdown",
   "metadata": {},
   "source": [
    "Mediancount is more strongly correlated with GroundTruth so we will use this for our model."
   ]
  },
  {
   "cell_type": "markdown",
   "metadata": {},
   "source": [
    "### Training initial linear regression model"
   ]
  },
  {
   "cell_type": "code",
   "execution_count": 17,
   "metadata": {
    "collapsed": false
   },
   "outputs": [
    {
     "name": "stdout",
     "output_type": "stream",
     "text": [
      "Intercept      7.526592\n",
      "MedianCount    0.655154\n",
      "dtype: float64\n"
     ]
    }
   ],
   "source": [
    "lm = sm.ols(formula=\"GroundTruth ~  MedianCount\", data=df).fit()\n",
    "\n",
    "# Print the model's parameters and weights\n",
    "print(lm.params)"
   ]
  },
  {
   "cell_type": "code",
   "execution_count": 18,
   "metadata": {
    "collapsed": false
   },
   "outputs": [
    {
     "data": {
      "text/html": [
       "<div>\n",
       "<table border=\"1\" class=\"dataframe\">\n",
       "  <thead>\n",
       "    <tr style=\"text-align: right;\">\n",
       "      <th></th>\n",
       "      <th>MedianCount</th>\n",
       "    </tr>\n",
       "  </thead>\n",
       "  <tbody>\n",
       "    <tr>\n",
       "      <th>0</th>\n",
       "      <td>0</td>\n",
       "    </tr>\n",
       "    <tr>\n",
       "      <th>1</th>\n",
       "      <td>225</td>\n",
       "    </tr>\n",
       "  </tbody>\n",
       "</table>\n",
       "</div>"
      ],
      "text/plain": [
       "   MedianCount\n",
       "0            0\n",
       "1          225"
      ]
     },
     "execution_count": 18,
     "metadata": {},
     "output_type": "execute_result"
    }
   ],
   "source": [
    "test_minmax = pd.DataFrame({'MedianCount': [df.MedianCount.min(), df.MedianCount.max()]})\n",
    "test_minmax.head()"
   ]
  },
  {
   "cell_type": "code",
   "execution_count": 19,
   "metadata": {
    "collapsed": false
   },
   "outputs": [
    {
     "data": {
      "text/plain": [
       "array([   7.52659244,  154.93627812])"
      ]
     },
     "execution_count": 19,
     "metadata": {},
     "output_type": "execute_result"
    }
   ],
   "source": [
    "predictions = lm.predict(test_minmax)\n",
    "predictions"
   ]
  },
  {
   "cell_type": "code",
   "execution_count": 21,
   "metadata": {
    "collapsed": false,
    "scrolled": true
   },
   "outputs": [
    {
     "data": {
      "text/plain": [
       "[<matplotlib.lines.Line2D at 0x21a174e3dd8>]"
      ]
     },
     "execution_count": 21,
     "metadata": {},
     "output_type": "execute_result"
    },
    {
     "data": {
      "image/png": "[encoded data removed]",
      "text/plain": [
       "<matplotlib.figure.Figure at 0x21a174e3e48>"
      ]
     },
     "metadata": {},
     "output_type": "display_data"
    }
   ],
   "source": [
    "df.plot(kind='scatter', x='MedianCount', y='GroundTruth', figsize=(8, 8))\n",
    "\n",
    "plt.plot(test_minmax, predictions, c='red', linewidth=2)"
   ]
  },
  {
   "cell_type": "code",
   "execution_count": 22,
   "metadata": {
    "collapsed": false
   },
   "outputs": [
    {
     "data": {
      "text/html": [
       "<table class=\"simpletable\">\n",
       "<caption>OLS Regression Results</caption>\n",
       "<tr>\n",
       "  <th>Dep. Variable:</th>       <td>GroundTruth</td>   <th>  R-squared:         </th> <td>   0.550</td>\n",
       "</tr>\n",
       "<tr>\n",
       "  <th>Model:</th>                   <td>OLS</td>       <th>  Adj. R-squared:    </th> <td>   0.547</td>\n",
       "</tr>\n",
       "<tr>\n",
       "  <th>Method:</th>             <td>Least Squares</td>  <th>  F-statistic:       </th> <td>   261.1</td>\n",
       "</tr>\n",
       "<tr>\n",
       "  <th>Date:</th>             <td>Thu, 04 Aug 2016</td> <th>  Prob (F-statistic):</th> <td>6.38e-39</td>\n",
       "</tr>\n",
       "<tr>\n",
       "  <th>Time:</th>                 <td>12:28:57</td>     <th>  Log-Likelihood:    </th> <td> -928.43</td>\n",
       "</tr>\n",
       "<tr>\n",
       "  <th>No. Observations:</th>      <td>   216</td>      <th>  AIC:               </th> <td>   1861.</td>\n",
       "</tr>\n",
       "<tr>\n",
       "  <th>Df Residuals:</th>          <td>   214</td>      <th>  BIC:               </th> <td>   1868.</td>\n",
       "</tr>\n",
       "<tr>\n",
       "  <th>Df Model:</th>              <td>     1</td>      <th>                     </th>     <td> </td>   \n",
       "</tr>\n",
       "<tr>\n",
       "  <th>Covariance Type:</th>      <td>nonrobust</td>    <th>                     </th>     <td> </td>   \n",
       "</tr>\n",
       "</table>\n",
       "<table class=\"simpletable\">\n",
       "<tr>\n",
       "       <td></td>          <th>coef</th>     <th>std err</th>      <th>t</th>      <th>P>|t|</th> <th>[95.0% Conf. Int.]</th> \n",
       "</tr>\n",
       "<tr>\n",
       "  <th>Intercept</th>   <td>    7.5266</td> <td>    1.757</td> <td>    4.283</td> <td> 0.000</td> <td>    4.063    10.990</td>\n",
       "</tr>\n",
       "<tr>\n",
       "  <th>MedianCount</th> <td>    0.6552</td> <td>    0.041</td> <td>   16.158</td> <td> 0.000</td> <td>    0.575     0.735</td>\n",
       "</tr>\n",
       "</table>\n",
       "<table class=\"simpletable\">\n",
       "<tr>\n",
       "  <th>Omnibus:</th>       <td>19.197</td> <th>  Durbin-Watson:     </th> <td>   1.747</td>\n",
       "</tr>\n",
       "<tr>\n",
       "  <th>Prob(Omnibus):</th> <td> 0.000</td> <th>  Jarque-Bera (JB):  </th> <td>  28.845</td>\n",
       "</tr>\n",
       "<tr>\n",
       "  <th>Skew:</th>          <td> 0.544</td> <th>  Prob(JB):          </th> <td>5.45e-07</td>\n",
       "</tr>\n",
       "<tr>\n",
       "  <th>Kurtosis:</th>      <td> 4.422</td> <th>  Cond. No.          </th> <td>    62.6</td>\n",
       "</tr>\n",
       "</table>"
      ],
      "text/plain": [
       "<class 'statsmodels.iolib.summary.Summary'>\n",
       "\"\"\"\n",
       "                            OLS Regression Results                            \n",
       "==============================================================================\n",
       "Dep. Variable:            GroundTruth   R-squared:                       0.550\n",
       "Model:                            OLS   Adj. R-squared:                  0.547\n",
       "Method:                 Least Squares   F-statistic:                     261.1\n",
       "Date:                Thu, 04 Aug 2016   Prob (F-statistic):           6.38e-39\n",
       "Time:                        12:28:57   Log-Likelihood:                -928.43\n",
       "No. Observations:                 216   AIC:                             1861.\n",
       "Df Residuals:                     214   BIC:                             1868.\n",
       "Df Model:                           1                                         \n",
       "Covariance Type:            nonrobust                                         \n",
       "===============================================================================\n",
       "                  coef    std err          t      P>|t|      [95.0% Conf. Int.]\n",
       "-------------------------------------------------------------------------------\n",
       "Intercept       7.5266      1.757      4.283      0.000         4.063    10.990\n",
       "MedianCount     0.6552      0.041     16.158      0.000         0.575     0.735\n",
       "==============================================================================\n",
       "Omnibus:                       19.197   Durbin-Watson:                   1.747\n",
       "Prob(Omnibus):                  0.000   Jarque-Bera (JB):               28.845\n",
       "Skew:                           0.544   Prob(JB):                     5.45e-07\n",
       "Kurtosis:                       4.422   Cond. No.                         62.6\n",
       "==============================================================================\n",
       "\n",
       "Warnings:\n",
       "[1] Standard Errors assume that the covariance matrix of the errors is correctly specified.\n",
       "\"\"\""
      ]
     },
     "execution_count": 22,
     "metadata": {},
     "output_type": "execute_result"
    }
   ],
   "source": [
    "lm.summary()"
   ]
  },
  {
   "cell_type": "code",
   "execution_count": 23,
   "metadata": {
    "collapsed": false
   },
   "outputs": [],
   "source": [
    "df_train = df[:int((0.7*df.shape[0]))]\n",
    "df_test = df[int((0.7*df.shape[0])):]\n",
    "\n",
    "# split into training and test sets"
   ]
  },
  {
   "cell_type": "code",
   "execution_count": 24,
   "metadata": {
    "collapsed": false
   },
   "outputs": [],
   "source": [
    "lm = sm.ols(formula=\"GroundTruth ~  MedianCount\", data=df_train).fit()"
   ]
  },
  {
   "cell_type": "code",
   "execution_count": 25,
   "metadata": {
    "collapsed": false,
    "scrolled": true
   },
   "outputs": [
    {
     "data": {
      "text/plain": [
       "array([ 14.40221095,  17.76335834,  54.73597968,  34.23298057,\n",
       "        67.17222504,  12.72163725,  19.78004678,  66.8361103 ,\n",
       "        15.7466699 ,  19.1078173 ,  33.22463636,  31.20794792,\n",
       "        27.84680052,  10.36883407,   9.02437512,  23.81342365,\n",
       "        22.46896469,  66.8361103 ,  11.04106355,  11.04106355,\n",
       "        30.87183318,  26.50234157,  10.70494881,  47.67757015,\n",
       "        27.51068579,  12.72163725,  41.96361958,  17.76335834,\n",
       "        54.0637502 ,  63.81107764,  11.71329303,  18.43558782,\n",
       "        42.9719638 ,  27.17457105,  20.45227626,   7.67991616,\n",
       "        49.69425859,  16.41889938,  45.66088171,  40.28304588,\n",
       "        15.7466699 ,  10.70494881,  11.71329303,  23.47730891,\n",
       "        45.32476698,  12.38552251,  27.17457105,  30.53571844,\n",
       "        15.07444043,  21.79673521,  11.04106355,  17.4272436 ,\n",
       "        24.14953839,  23.14119417,  16.41889938,  19.1078173 ,\n",
       "        84.98630623,  19.78004678,  38.26635745,  10.36883407,\n",
       "        18.43558782,  35.24132479,   7.67991616,  13.39386673,  19.1078173 ])"
      ]
     },
     "execution_count": 25,
     "metadata": {},
     "output_type": "execute_result"
    }
   ],
   "source": [
    "test_predictions = lm.predict(df_test)\n",
    "test_predictions"
   ]
  },
  {
   "cell_type": "code",
   "execution_count": 26,
   "metadata": {
    "collapsed": false
   },
   "outputs": [
    {
     "name": "stderr",
     "output_type": "stream",
     "text": [
      "C:\\Users\\veldi_000\\Anaconda3\\lib\\site-packages\\ipykernel\\__main__.py:1: SettingWithCopyWarning: \n",
      "A value is trying to be set on a copy of a slice from a DataFrame.\n",
      "Try using .loc[row_indexer,col_indexer] = value instead\n",
      "\n",
      "See the caveats in the documentation: http://pandas.pydata.org/pandas-docs/stable/indexing.html#indexing-view-versus-copy\n",
      "  if __name__ == '__main__':\n"
     ]
    }
   ],
   "source": [
    "df_test['Predictions'] = test_predictions"
   ]
  },
  {
   "cell_type": "code",
   "execution_count": 27,
   "metadata": {
    "collapsed": false,
    "scrolled": false
   },
   "outputs": [
    {
     "data": {
      "text/html": [
       "<div>\n",
       "<table border=\"1\" class=\"dataframe\">\n",
       "  <thead>\n",
       "    <tr style=\"text-align: right;\">\n",
       "      <th></th>\n",
       "      <th>room_id</th>\n",
       "      <th>Room</th>\n",
       "      <th>Capacity</th>\n",
       "      <th>Date</th>\n",
       "      <th>SurveyPercentage</th>\n",
       "      <th>GroundTruth</th>\n",
       "      <th>MaxCount</th>\n",
       "      <th>AverageCount</th>\n",
       "      <th>MedianCount</th>\n",
       "      <th>ModeCount</th>\n",
       "      <th>Predictions</th>\n",
       "    </tr>\n",
       "  </thead>\n",
       "  <tbody>\n",
       "    <tr>\n",
       "      <th>151</th>\n",
       "      <td>1</td>\n",
       "      <td>B-002</td>\n",
       "      <td>90</td>\n",
       "      <td>2015-11-11 11:00:00</td>\n",
       "      <td>25</td>\n",
       "      <td>22.5</td>\n",
       "      <td>21</td>\n",
       "      <td>10.909091</td>\n",
       "      <td>10.0</td>\n",
       "      <td>8</td>\n",
       "      <td>14.402211</td>\n",
       "    </tr>\n",
       "    <tr>\n",
       "      <th>152</th>\n",
       "      <td>2</td>\n",
       "      <td>B-003</td>\n",
       "      <td>90</td>\n",
       "      <td>2015-11-11 11:00:00</td>\n",
       "      <td>75</td>\n",
       "      <td>67.5</td>\n",
       "      <td>44</td>\n",
       "      <td>18.272727</td>\n",
       "      <td>15.0</td>\n",
       "      <td>7</td>\n",
       "      <td>17.763358</td>\n",
       "    </tr>\n",
       "    <tr>\n",
       "      <th>153</th>\n",
       "      <td>3</td>\n",
       "      <td>B-004</td>\n",
       "      <td>160</td>\n",
       "      <td>2015-11-11 12:00:00</td>\n",
       "      <td>25</td>\n",
       "      <td>40.0</td>\n",
       "      <td>75</td>\n",
       "      <td>60.333333</td>\n",
       "      <td>70.0</td>\n",
       "      <td>48</td>\n",
       "      <td>54.735980</td>\n",
       "    </tr>\n",
       "    <tr>\n",
       "      <th>154</th>\n",
       "      <td>1</td>\n",
       "      <td>B-002</td>\n",
       "      <td>90</td>\n",
       "      <td>2015-11-11 12:00:00</td>\n",
       "      <td>25</td>\n",
       "      <td>22.5</td>\n",
       "      <td>44</td>\n",
       "      <td>37.083333</td>\n",
       "      <td>39.5</td>\n",
       "      <td>24</td>\n",
       "      <td>34.232981</td>\n",
       "    </tr>\n",
       "    <tr>\n",
       "      <th>155</th>\n",
       "      <td>2</td>\n",
       "      <td>B-003</td>\n",
       "      <td>90</td>\n",
       "      <td>2015-11-11 12:00:00</td>\n",
       "      <td>75</td>\n",
       "      <td>67.5</td>\n",
       "      <td>97</td>\n",
       "      <td>81.500000</td>\n",
       "      <td>88.5</td>\n",
       "      <td>40</td>\n",
       "      <td>67.172225</td>\n",
       "    </tr>\n",
       "  </tbody>\n",
       "</table>\n",
       "</div>"
      ],
      "text/plain": [
       "     room_id   Room  Capacity                 Date  SurveyPercentage  \\\n",
       "151        1  B-002        90  2015-11-11 11:00:00                25   \n",
       "152        2  B-003        90  2015-11-11 11:00:00                75   \n",
       "153        3  B-004       160  2015-11-11 12:00:00                25   \n",
       "154        1  B-002        90  2015-11-11 12:00:00                25   \n",
       "155        2  B-003        90  2015-11-11 12:00:00                75   \n",
       "\n",
       "     GroundTruth  MaxCount  AverageCount  MedianCount  ModeCount  Predictions  \n",
       "151         22.5        21     10.909091         10.0          8    14.402211  \n",
       "152         67.5        44     18.272727         15.0          7    17.763358  \n",
       "153         40.0        75     60.333333         70.0         48    54.735980  \n",
       "154         22.5        44     37.083333         39.5         24    34.232981  \n",
       "155         67.5        97     81.500000         88.5         40    67.172225  "
      ]
     },
     "execution_count": 27,
     "metadata": {},
     "output_type": "execute_result"
    }
   ],
   "source": [
    "df_test.head()"
   ]
  },
  {
   "cell_type": "code",
   "execution_count": 28,
   "metadata": {
    "collapsed": false,
    "scrolled": true
   },
   "outputs": [
    {
     "name": "stdout",
     "output_type": "stream",
     "text": [
      "Actual - Predicted:\n",
      " 151     8.097789\n",
      "152    49.736642\n",
      "153   -14.735980\n",
      "154   -11.732981\n",
      "155     0.327775\n",
      "156   -12.721637\n",
      "157     2.719953\n",
      "158     0.663890\n",
      "159   -15.746670\n",
      "160   -19.107817\n",
      "161    11.775364\n",
      "162   -31.207948\n",
      "163    -5.346801\n",
      "164    12.131166\n",
      "165    -9.024375\n",
      "166    -1.313424\n",
      "167    22.531035\n",
      "168    13.163890\n",
      "169   -11.041064\n",
      "170   -11.041064\n",
      "171    49.128167\n",
      "172    -4.002342\n",
      "173   -10.704949\n",
      "174    -7.677570\n",
      "175    -5.010686\n",
      "176     9.778363\n",
      "177    -1.963620\n",
      "178     4.736642\n",
      "179   -31.563750\n",
      "180    16.188922\n",
      "         ...    \n",
      "186    32.320084\n",
      "187   -27.194259\n",
      "188     6.081101\n",
      "189   -45.660882\n",
      "190   -17.783046\n",
      "191   -15.746670\n",
      "192   -10.704949\n",
      "193   -11.713293\n",
      "194    21.522691\n",
      "195   -45.324767\n",
      "196   -12.385523\n",
      "197    17.825429\n",
      "198   -30.535718\n",
      "199   -15.074440\n",
      "200     0.703265\n",
      "201   -11.041064\n",
      "202   -17.427244\n",
      "203    -1.649538\n",
      "204   -23.141194\n",
      "205   -16.418899\n",
      "206   -19.107817\n",
      "207    -4.986306\n",
      "208     2.719953\n",
      "209     6.733643\n",
      "210    69.631166\n",
      "211     4.064412\n",
      "212   -12.741325\n",
      "213    -7.679916\n",
      "214     9.106133\n",
      "215     3.392183\n",
      "dtype: float64\n",
      "\n",
      "(Actual - Predicted) squared:\n",
      " 151      65.574188\n",
      "152    2473.733523\n",
      "153     217.149097\n",
      "154     137.662833\n",
      "155       0.107436\n",
      "156     161.840054\n",
      "157       7.398146\n",
      "158       0.440750\n",
      "159     247.957613\n",
      "160     365.108682\n",
      "161     138.659189\n",
      "162     973.936013\n",
      "163      28.588276\n",
      "164     147.165187\n",
      "165      81.439346\n",
      "166       1.725082\n",
      "167     507.647552\n",
      "168     173.287992\n",
      "169     121.905084\n",
      "170     121.905084\n",
      "171    2413.576775\n",
      "172      16.018738\n",
      "173     114.595929\n",
      "174      58.945083\n",
      "175      25.106972\n",
      "176      95.616378\n",
      "177       3.855802\n",
      "178      22.435774\n",
      "179     996.270327\n",
      "180     262.081207\n",
      "          ...     \n",
      "186    1044.587820\n",
      "187     739.527700\n",
      "188      36.979785\n",
      "189    2084.916119\n",
      "190     316.236721\n",
      "191     247.957613\n",
      "192     114.595929\n",
      "193     137.201234\n",
      "194     463.226232\n",
      "195    2054.334501\n",
      "196     153.401168\n",
      "197     317.745917\n",
      "198     932.430101\n",
      "199     227.238754\n",
      "200       0.494581\n",
      "201     121.905084\n",
      "202     303.708820\n",
      "203       2.720977\n",
      "204     535.514868\n",
      "205     269.580257\n",
      "206     365.108682\n",
      "207      24.863250\n",
      "208       7.398146\n",
      "209      45.341942\n",
      "210    4848.499268\n",
      "211      16.519446\n",
      "212     162.341357\n",
      "213      58.981112\n",
      "214      82.921663\n",
      "215      11.506903\n",
      "dtype: float64\n"
     ]
    }
   ],
   "source": [
    "#Pair the actual and the predicted values\n",
    "print(\"Actual - Predicted:\\n\", (df_test['GroundTruth'] - df_test['Predictions']))\n",
    "print(\"\\n(Actual - Predicted) squared:\\n\", (df_test['GroundTruth'] - df_test['Predictions'])**2)"
   ]
  },
  {
   "cell_type": "code",
   "execution_count": 29,
   "metadata": {
    "collapsed": false
   },
   "outputs": [
    {
     "name": "stdout",
     "output_type": "stream",
     "text": [
      "\n",
      "Mean Squared Error:\n",
      " 428.91702692816347\n"
     ]
    }
   ],
   "source": [
    "# Mean squared error on the test set\n",
    "mse = ((df_test['GroundTruth'] - df_test['Predictions'])**2).mean()\n",
    "print(\"\\nMean Squared Error:\\n\", mse)"
   ]
  },
  {
   "cell_type": "code",
   "execution_count": 30,
   "metadata": {
    "collapsed": false,
    "scrolled": true
   },
   "outputs": [
    {
     "name": "stdout",
     "output_type": "stream",
     "text": [
      "Absolute value for Actual - Predicted:\n",
      " 151     8.097789\n",
      "152    49.736642\n",
      "153    14.735980\n",
      "154    11.732981\n",
      "155     0.327775\n",
      "156    12.721637\n",
      "157     2.719953\n",
      "158     0.663890\n",
      "159    15.746670\n",
      "160    19.107817\n",
      "161    11.775364\n",
      "162    31.207948\n",
      "163     5.346801\n",
      "164    12.131166\n",
      "165     9.024375\n",
      "166     1.313424\n",
      "167    22.531035\n",
      "168    13.163890\n",
      "169    11.041064\n",
      "170    11.041064\n",
      "171    49.128167\n",
      "172     4.002342\n",
      "173    10.704949\n",
      "174     7.677570\n",
      "175     5.010686\n",
      "176     9.778363\n",
      "177     1.963620\n",
      "178     4.736642\n",
      "179    31.563750\n",
      "180    16.188922\n",
      "         ...    \n",
      "186    32.320084\n",
      "187    27.194259\n",
      "188     6.081101\n",
      "189    45.660882\n",
      "190    17.783046\n",
      "191    15.746670\n",
      "192    10.704949\n",
      "193    11.713293\n",
      "194    21.522691\n",
      "195    45.324767\n",
      "196    12.385523\n",
      "197    17.825429\n",
      "198    30.535718\n",
      "199    15.074440\n",
      "200     0.703265\n",
      "201    11.041064\n",
      "202    17.427244\n",
      "203     1.649538\n",
      "204    23.141194\n",
      "205    16.418899\n",
      "206    19.107817\n",
      "207     4.986306\n",
      "208     2.719953\n",
      "209     6.733643\n",
      "210    69.631166\n",
      "211     4.064412\n",
      "212    12.741325\n",
      "213     7.679916\n",
      "214     9.106133\n",
      "215     3.392183\n",
      "dtype: float64\n"
     ]
    }
   ],
   "source": [
    "print(\"Absolute value for Actual - Predicted:\\n\", abs((df_test['GroundTruth'] - df_test['Predictions'])))"
   ]
  },
  {
   "cell_type": "code",
   "execution_count": 31,
   "metadata": {
    "collapsed": false
   },
   "outputs": [
    {
     "name": "stdout",
     "output_type": "stream",
     "text": [
      "Mean absolute error is: \n",
      "15.57521924057233\n"
     ]
    }
   ],
   "source": [
    "# Mean absolute error. Surprisingly not bad!\n",
    "mae = abs(df_test['GroundTruth'] - df_test['Predictions']).mean()\n",
    "print(\"Mean absolute error is: \\n{}\".format(mae))"
   ]
  },
  {
   "cell_type": "markdown",
   "metadata": {},
   "source": [
    "### Creating bins for the 'Predictions' value"
   ]
  },
  {
   "cell_type": "code",
   "execution_count": 32,
   "metadata": {
    "collapsed": false,
    "scrolled": true
   },
   "outputs": [
    {
     "name": "stdout",
     "output_type": "stream",
     "text": [
      "Shape of df_test is (65, 11)\n"
     ]
    },
    {
     "data": {
      "text/html": [
       "<div>\n",
       "<table border=\"1\" class=\"dataframe\">\n",
       "  <thead>\n",
       "    <tr style=\"text-align: right;\">\n",
       "      <th></th>\n",
       "      <th>room_id</th>\n",
       "      <th>Room</th>\n",
       "      <th>Capacity</th>\n",
       "      <th>Date</th>\n",
       "      <th>SurveyPercentage</th>\n",
       "      <th>GroundTruth</th>\n",
       "      <th>MaxCount</th>\n",
       "      <th>AverageCount</th>\n",
       "      <th>MedianCount</th>\n",
       "      <th>ModeCount</th>\n",
       "      <th>Predictions</th>\n",
       "      <th>PredictedPercentage</th>\n",
       "    </tr>\n",
       "  </thead>\n",
       "  <tbody>\n",
       "    <tr>\n",
       "      <th>0</th>\n",
       "      <td>1</td>\n",
       "      <td>B-002</td>\n",
       "      <td>90</td>\n",
       "      <td>2015-11-11 11:00:00</td>\n",
       "      <td>25</td>\n",
       "      <td>22.5</td>\n",
       "      <td>21</td>\n",
       "      <td>10.909091</td>\n",
       "      <td>10.0</td>\n",
       "      <td>8</td>\n",
       "      <td>14.402211</td>\n",
       "      <td>0</td>\n",
       "    </tr>\n",
       "    <tr>\n",
       "      <th>1</th>\n",
       "      <td>2</td>\n",
       "      <td>B-003</td>\n",
       "      <td>90</td>\n",
       "      <td>2015-11-11 11:00:00</td>\n",
       "      <td>75</td>\n",
       "      <td>67.5</td>\n",
       "      <td>44</td>\n",
       "      <td>18.272727</td>\n",
       "      <td>15.0</td>\n",
       "      <td>7</td>\n",
       "      <td>17.763358</td>\n",
       "      <td>0</td>\n",
       "    </tr>\n",
       "    <tr>\n",
       "      <th>2</th>\n",
       "      <td>3</td>\n",
       "      <td>B-004</td>\n",
       "      <td>160</td>\n",
       "      <td>2015-11-11 12:00:00</td>\n",
       "      <td>25</td>\n",
       "      <td>40.0</td>\n",
       "      <td>75</td>\n",
       "      <td>60.333333</td>\n",
       "      <td>70.0</td>\n",
       "      <td>48</td>\n",
       "      <td>54.735980</td>\n",
       "      <td>50</td>\n",
       "    </tr>\n",
       "    <tr>\n",
       "      <th>3</th>\n",
       "      <td>1</td>\n",
       "      <td>B-002</td>\n",
       "      <td>90</td>\n",
       "      <td>2015-11-11 12:00:00</td>\n",
       "      <td>25</td>\n",
       "      <td>22.5</td>\n",
       "      <td>44</td>\n",
       "      <td>37.083333</td>\n",
       "      <td>39.5</td>\n",
       "      <td>24</td>\n",
       "      <td>34.232981</td>\n",
       "      <td>50</td>\n",
       "    </tr>\n",
       "    <tr>\n",
       "      <th>4</th>\n",
       "      <td>2</td>\n",
       "      <td>B-003</td>\n",
       "      <td>90</td>\n",
       "      <td>2015-11-11 12:00:00</td>\n",
       "      <td>75</td>\n",
       "      <td>67.5</td>\n",
       "      <td>97</td>\n",
       "      <td>81.500000</td>\n",
       "      <td>88.5</td>\n",
       "      <td>40</td>\n",
       "      <td>67.172225</td>\n",
       "      <td>50</td>\n",
       "    </tr>\n",
       "  </tbody>\n",
       "</table>\n",
       "</div>"
      ],
      "text/plain": [
       "   room_id   Room  Capacity                 Date  SurveyPercentage  \\\n",
       "0        1  B-002        90  2015-11-11 11:00:00                25   \n",
       "1        2  B-003        90  2015-11-11 11:00:00                75   \n",
       "2        3  B-004       160  2015-11-11 12:00:00                25   \n",
       "3        1  B-002        90  2015-11-11 12:00:00                25   \n",
       "4        2  B-003        90  2015-11-11 12:00:00                75   \n",
       "\n",
       "   GroundTruth  MaxCount  AverageCount  MedianCount  ModeCount  Predictions  \\\n",
       "0         22.5        21     10.909091         10.0          8    14.402211   \n",
       "1         67.5        44     18.272727         15.0          7    17.763358   \n",
       "2         40.0        75     60.333333         70.0         48    54.735980   \n",
       "3         22.5        44     37.083333         39.5         24    34.232981   \n",
       "4         67.5        97     81.500000         88.5         40    67.172225   \n",
       "\n",
       "   PredictedPercentage  \n",
       "0                    0  \n",
       "1                    0  \n",
       "2                   50  \n",
       "3                   50  \n",
       "4                   50  "
      ]
     },
     "execution_count": 32,
     "metadata": {},
     "output_type": "execute_result"
    }
   ],
   "source": [
    "def classify_prediction(df, i):\n",
    "\n",
    "    # passing in this: df2_test.Predictions[row], row\n",
    "    prediction = df.Predictions[i]\n",
    "    \n",
    "    capacity = df.Capacity[i]\n",
    "    # selects the relevant capacity value for the room and assigns to a variable\n",
    "    percentile_0 = 0\n",
    "#     percentile_25 = capacity * 0.25\n",
    "    percentile_50 = capacity * 0.5\n",
    "#     percentile_75 = capacity * 0.75\n",
    "    percentile_100 = capacity\n",
    "    \n",
    "# This is going to be disgusting, I'd like to find a better way of doing it.\n",
    "    \n",
    "#     if prediction <= (percentile_25 - ((percentile_25 - percentile_0)/2)):\n",
    "#         return 0\n",
    "#     # if prediction is closer to 0% than 25%, return 0%\n",
    "#     # in this case: if prediction(43) is less than (40 - ((40-0)/2))\n",
    "#     # so between range of 0 to 20\n",
    "#     elif prediction >= percentile_25 - ((percentile_25 - percentile_0)/2) and prediction <= percentile_50 - ((percentile_50 - percentile_25)/2):\n",
    "#         return 25\n",
    "#     # if prediction (43) is greater than 20 and less than 60\n",
    "#     elif prediction >= percentile_50 - ((percentile_50 - percentile_25)/2) and prediction <= percentile_75 - ((percentile_75 - percentile_50)/2):\n",
    "#         return 50\n",
    "#     # if prediction is greater than 60 and less than 100\n",
    "#     elif prediction >= percentile_75 - ((percentile_75 - percentile_50)/2) and prediction <= percentile_100 - ((percentile_100 - percentile_75)/2):\n",
    "#         return 75\n",
    "#     # if prediction is greater than 100 and less than 140\n",
    "#     elif prediction >= percentile_100 - ((percentile_100 - percentile_75)/2):\n",
    "#         return 100\n",
    "\n",
    "# making ternary bins rather than original 0/25/50/75/100\n",
    "    if prediction <= (percentile_50 - ((percentile_50 - percentile_0)/2)):\n",
    "        return 0\n",
    "    elif prediction >= percentile_50 - ((percentile_50 - percentile_0)/2) and prediction <= percentile_100 - ((percentile_100 - percentile_50)/2):\n",
    "        return 50\n",
    "    # if prediction (43) is greater than 20 and less than 60\n",
    "    elif prediction >= percentile_100 - ((percentile_100 - percentile_50)/2):\n",
    "        return 100\n",
    "\n",
    "# roomdf2_test['PredictedPercentage'] = roomdf2_test['Predictions'].map(classify_prediction)\n",
    "# roomdf2_test\n",
    "\n",
    "df_test = df_test.reset_index(drop = True)\n",
    "percentage = []\n",
    "\n",
    "print(\"Shape of df_test is {}\".format(df_test.shape))\n",
    "\n",
    "for row in range(df_test.shape[0]):\n",
    "    percentage.append(classify_prediction(df_test, row))\n",
    "\n",
    "df_test['PredictedPercentage'] = percentage\n",
    "df_test.head()\n",
    "\n",
    "# my_series.apply((lambda x: your_func(a,b,c,d,...,x)))\n",
    "# my_series.apply(your_function, args=(2,3,4), extra_kw=1)\n",
    "\n",
    "# mapping values to new column\n",
    "# http://stackoverflow.com/questions/21029128/updating-pandas-dataframe-via-for-loops"
   ]
  },
  {
   "cell_type": "code",
   "execution_count": 33,
   "metadata": {
    "collapsed": false,
    "scrolled": true
   },
   "outputs": [
    {
     "data": {
      "text/html": [
       "<div>\n",
       "<table border=\"1\" class=\"dataframe\">\n",
       "  <thead>\n",
       "    <tr style=\"text-align: right;\">\n",
       "      <th></th>\n",
       "      <th>room_id</th>\n",
       "      <th>Room</th>\n",
       "      <th>Capacity</th>\n",
       "      <th>Date</th>\n",
       "      <th>SurveyPercentage</th>\n",
       "      <th>GroundTruth</th>\n",
       "      <th>MaxCount</th>\n",
       "      <th>AverageCount</th>\n",
       "      <th>MedianCount</th>\n",
       "      <th>ModeCount</th>\n",
       "      <th>Predictions</th>\n",
       "      <th>PredictedPercentage</th>\n",
       "    </tr>\n",
       "  </thead>\n",
       "  <tbody>\n",
       "    <tr>\n",
       "      <th>5</th>\n",
       "      <td>3</td>\n",
       "      <td>B-004</td>\n",
       "      <td>160</td>\n",
       "      <td>2015-11-11 13:00:00</td>\n",
       "      <td>0</td>\n",
       "      <td>0</td>\n",
       "      <td>9</td>\n",
       "      <td>7.400000</td>\n",
       "      <td>7.5</td>\n",
       "      <td>9</td>\n",
       "      <td>12.721637</td>\n",
       "      <td>0</td>\n",
       "    </tr>\n",
       "    <tr>\n",
       "      <th>8</th>\n",
       "      <td>3</td>\n",
       "      <td>B-004</td>\n",
       "      <td>160</td>\n",
       "      <td>2015-11-11 14:00:00</td>\n",
       "      <td>0</td>\n",
       "      <td>0</td>\n",
       "      <td>18</td>\n",
       "      <td>12.166667</td>\n",
       "      <td>12.0</td>\n",
       "      <td>9</td>\n",
       "      <td>15.746670</td>\n",
       "      <td>0</td>\n",
       "    </tr>\n",
       "    <tr>\n",
       "      <th>9</th>\n",
       "      <td>1</td>\n",
       "      <td>B-002</td>\n",
       "      <td>90</td>\n",
       "      <td>2015-11-11 14:00:00</td>\n",
       "      <td>0</td>\n",
       "      <td>0</td>\n",
       "      <td>22</td>\n",
       "      <td>16.416667</td>\n",
       "      <td>17.0</td>\n",
       "      <td>17</td>\n",
       "      <td>19.107817</td>\n",
       "      <td>0</td>\n",
       "    </tr>\n",
       "    <tr>\n",
       "      <th>10</th>\n",
       "      <td>2</td>\n",
       "      <td>B-003</td>\n",
       "      <td>90</td>\n",
       "      <td>2015-11-11 14:00:00</td>\n",
       "      <td>50</td>\n",
       "      <td>45</td>\n",
       "      <td>77</td>\n",
       "      <td>41.166667</td>\n",
       "      <td>38.0</td>\n",
       "      <td>77</td>\n",
       "      <td>33.224636</td>\n",
       "      <td>50</td>\n",
       "    </tr>\n",
       "    <tr>\n",
       "      <th>11</th>\n",
       "      <td>3</td>\n",
       "      <td>B-004</td>\n",
       "      <td>160</td>\n",
       "      <td>2015-11-11 15:00:00</td>\n",
       "      <td>0</td>\n",
       "      <td>0</td>\n",
       "      <td>39</td>\n",
       "      <td>35.250000</td>\n",
       "      <td>35.0</td>\n",
       "      <td>28</td>\n",
       "      <td>31.207948</td>\n",
       "      <td>0</td>\n",
       "    </tr>\n",
       "  </tbody>\n",
       "</table>\n",
       "</div>"
      ],
      "text/plain": [
       "    room_id   Room  Capacity                 Date  SurveyPercentage  \\\n",
       "5         3  B-004       160  2015-11-11 13:00:00                 0   \n",
       "8         3  B-004       160  2015-11-11 14:00:00                 0   \n",
       "9         1  B-002        90  2015-11-11 14:00:00                 0   \n",
       "10        2  B-003        90  2015-11-11 14:00:00                50   \n",
       "11        3  B-004       160  2015-11-11 15:00:00                 0   \n",
       "\n",
       "    GroundTruth  MaxCount  AverageCount  MedianCount  ModeCount  Predictions  \\\n",
       "5             0         9      7.400000          7.5          9    12.721637   \n",
       "8             0        18     12.166667         12.0          9    15.746670   \n",
       "9             0        22     16.416667         17.0         17    19.107817   \n",
       "10           45        77     41.166667         38.0         77    33.224636   \n",
       "11            0        39     35.250000         35.0         28    31.207948   \n",
       "\n",
       "    PredictedPercentage  \n",
       "5                     0  \n",
       "8                     0  \n",
       "9                     0  \n",
       "10                   50  \n",
       "11                    0  "
      ]
     },
     "execution_count": 33,
     "metadata": {},
     "output_type": "execute_result"
    }
   ],
   "source": [
    "# testing accuracy of model excluding values that it currently doesn't account for\n",
    "evaluation = df_test[(df_test.SurveyPercentage != 25) & (df_test.SurveyPercentage != 75)]\n",
    "evaluation.head()"
   ]
  },
  {
   "cell_type": "code",
   "execution_count": 34,
   "metadata": {
    "collapsed": true
   },
   "outputs": [
    {
     "name": "stdout",
     "output_type": "stream",
     "text": [
      "Actual - Predicted:\n",
      " 5      0\n",
      "8      0\n",
      "9      0\n",
      "10     0\n",
      "11     0\n",
      "14     0\n",
      "16    50\n",
      "17     0\n",
      "18     0\n",
      "19     0\n",
      "20    50\n",
      "22     0\n",
      "29     0\n",
      "30     0\n",
      "31     0\n",
      "32     0\n",
      "33     0\n",
      "38   -50\n",
      "40     0\n",
      "41     0\n",
      "42     0\n",
      "43     0\n",
      "44   -50\n",
      "45     0\n",
      "46     0\n",
      "47     0\n",
      "48     0\n",
      "50     0\n",
      "51     0\n",
      "53     0\n",
      "54     0\n",
      "55     0\n",
      "56     0\n",
      "58     0\n",
      "59    50\n",
      "62     0\n",
      "dtype: float64\n",
      "\n",
      "Correct observations:  31  out of  36\n",
      "\n",
      "Accuracy score:  86.11111111111111\n"
     ]
    }
   ],
   "source": [
    "surveyvsprediction = (evaluation.SurveyPercentage - evaluation.PredictedPercentage)\n",
    "print(\"Actual - Predicted:\\n\", surveyvsprediction)\n",
    "\n",
    "# 0 means the prediction matches the survey.\n",
    "print(\"\\nCorrect observations: \", (surveyvsprediction.tolist()).count(0), \" out of \", len(surveyvsprediction.tolist()))\n",
    "print(\"\\nAccuracy score: \", (surveyvsprediction.tolist()).count(0)/len(surveyvsprediction.tolist())*100)"
   ]
  },
  {
   "cell_type": "code",
   "execution_count": 35,
   "metadata": {
    "collapsed": false
   },
   "outputs": [
    {
     "data": {
      "text/html": [
       "<table class=\"simpletable\">\n",
       "<caption>OLS Regression Results</caption>\n",
       "<tr>\n",
       "  <th>Dep. Variable:</th>       <td>GroundTruth</td>   <th>  R-squared:         </th> <td>   0.626</td>\n",
       "</tr>\n",
       "<tr>\n",
       "  <th>Model:</th>                   <td>OLS</td>       <th>  Adj. R-squared:    </th> <td>   0.624</td>\n",
       "</tr>\n",
       "<tr>\n",
       "  <th>Method:</th>             <td>Least Squares</td>  <th>  F-statistic:       </th> <td>   249.6</td>\n",
       "</tr>\n",
       "<tr>\n",
       "  <th>Date:</th>             <td>Thu, 04 Aug 2016</td> <th>  Prob (F-statistic):</th> <td>1.20e-33</td>\n",
       "</tr>\n",
       "<tr>\n",
       "  <th>Time:</th>                 <td>12:34:05</td>     <th>  Log-Likelihood:    </th> <td> -636.88</td>\n",
       "</tr>\n",
       "<tr>\n",
       "  <th>No. Observations:</th>      <td>   151</td>      <th>  AIC:               </th> <td>   1278.</td>\n",
       "</tr>\n",
       "<tr>\n",
       "  <th>Df Residuals:</th>          <td>   149</td>      <th>  BIC:               </th> <td>   1284.</td>\n",
       "</tr>\n",
       "<tr>\n",
       "  <th>Df Model:</th>              <td>     1</td>      <th>                     </th>     <td> </td>   \n",
       "</tr>\n",
       "<tr>\n",
       "  <th>Covariance Type:</th>      <td>nonrobust</td>    <th>                     </th>     <td> </td>   \n",
       "</tr>\n",
       "</table>\n",
       "<table class=\"simpletable\">\n",
       "<tr>\n",
       "       <td></td>          <th>coef</th>     <th>std err</th>      <th>t</th>      <th>P>|t|</th> <th>[95.0% Conf. Int.]</th> \n",
       "</tr>\n",
       "<tr>\n",
       "  <th>Intercept</th>   <td>    7.6799</td> <td>    1.925</td> <td>    3.990</td> <td> 0.000</td> <td>    3.877    11.483</td>\n",
       "</tr>\n",
       "<tr>\n",
       "  <th>MedianCount</th> <td>    0.6722</td> <td>    0.043</td> <td>   15.798</td> <td> 0.000</td> <td>    0.588     0.756</td>\n",
       "</tr>\n",
       "</table>\n",
       "<table class=\"simpletable\">\n",
       "<tr>\n",
       "  <th>Omnibus:</th>       <td> 6.507</td> <th>  Durbin-Watson:     </th> <td>   1.546</td>\n",
       "</tr>\n",
       "<tr>\n",
       "  <th>Prob(Omnibus):</th> <td> 0.039</td> <th>  Jarque-Bera (JB):  </th> <td>   8.468</td>\n",
       "</tr>\n",
       "<tr>\n",
       "  <th>Skew:</th>          <td> 0.242</td> <th>  Prob(JB):          </th> <td>  0.0145</td>\n",
       "</tr>\n",
       "<tr>\n",
       "  <th>Kurtosis:</th>      <td> 4.055</td> <th>  Cond. No.          </th> <td>    64.7</td>\n",
       "</tr>\n",
       "</table>"
      ],
      "text/plain": [
       "<class 'statsmodels.iolib.summary.Summary'>\n",
       "\"\"\"\n",
       "                            OLS Regression Results                            \n",
       "==============================================================================\n",
       "Dep. Variable:            GroundTruth   R-squared:                       0.626\n",
       "Model:                            OLS   Adj. R-squared:                  0.624\n",
       "Method:                 Least Squares   F-statistic:                     249.6\n",
       "Date:                Thu, 04 Aug 2016   Prob (F-statistic):           1.20e-33\n",
       "Time:                        12:34:05   Log-Likelihood:                -636.88\n",
       "No. Observations:                 151   AIC:                             1278.\n",
       "Df Residuals:                     149   BIC:                             1284.\n",
       "Df Model:                           1                                         \n",
       "Covariance Type:            nonrobust                                         \n",
       "===============================================================================\n",
       "                  coef    std err          t      P>|t|      [95.0% Conf. Int.]\n",
       "-------------------------------------------------------------------------------\n",
       "Intercept       7.6799      1.925      3.990      0.000         3.877    11.483\n",
       "MedianCount     0.6722      0.043     15.798      0.000         0.588     0.756\n",
       "==============================================================================\n",
       "Omnibus:                        6.507   Durbin-Watson:                   1.546\n",
       "Prob(Omnibus):                  0.039   Jarque-Bera (JB):                8.468\n",
       "Skew:                           0.242   Prob(JB):                       0.0145\n",
       "Kurtosis:                       4.055   Cond. No.                         64.7\n",
       "==============================================================================\n",
       "\n",
       "Warnings:\n",
       "[1] Standard Errors assume that the covariance matrix of the errors is correctly specified.\n",
       "\"\"\""
      ]
     },
     "execution_count": 35,
     "metadata": {},
     "output_type": "execute_result"
    }
   ],
   "source": [
    "lm.summary()\n",
    "# The weight for features MedianCount and Intercept are found to be statistically significant (p-value < 0.05)\n",
    "# R-squared values are middling, variance explained by the model is not very high but this is fine as we are\n",
    "# attempting to predict with high accuracy/low granulity rather than the converse.\n",
    "\n",
    "# measuring mean squared error and mean absolute error doesn't make much sense with the binned predictions as\n",
    "# the values are categorical."
   ]
  },
  {
   "cell_type": "code",
   "execution_count": 36,
   "metadata": {
    "collapsed": false
   },
   "outputs": [
    {
     "name": "stdout",
     "output_type": "stream",
     "text": [
      "Success! Table created or updated.\n"
     ]
    }
   ],
   "source": [
    "try:\n",
    "    con = lite.connect('wicount.sqlite3')\n",
    "    df_test.to_sql(con=con, name='analytics', if_exists='append', flavor='sqlite', index=False)\n",
    "    # Set index to False because it's not a column but will be treated as one.\n",
    "    print(\"Success! Table created or updated.\")\n",
    "except Exception as e: print(e)\n",
    "\n",
    "# Problem at the moment: UNIQUE constraint failed: analytics.room_id, analytics.date\n",
    "# Now using logdate instead of date as primary key.\n",
    "# Writes fine otherwise."
   ]
  },
  {
   "cell_type": "markdown",
   "metadata": {},
   "source": [
    "### General function to make and classify predictions\n",
    "\n",
    "Should run a dataframe loaded from the database table"
   ]
  },
  {
   "cell_type": "code",
   "execution_count": 49,
   "metadata": {
    "collapsed": false
   },
   "outputs": [
    {
     "name": "stdout",
     "output_type": "stream",
     "text": [
      "Intercept      7.679916\n",
      "MedianCount    0.672229\n",
      "dtype: float64\n",
      "(216, 11)\n"
     ]
    }
   ],
   "source": [
    "def make_predictions(df):\n",
    "    wicountlm = sm.ols(formula=\"GroundTruth ~  MedianCount\", data=df).fit()\n",
    "    # Print the model's parameters and weights\n",
    "    print(lm.params)\n",
    "    \n",
    "    predictions = wicountlm.predict(df)\n",
    "    df['Predictions'] = predictions\n",
    "    \n",
    "    \n",
    "    df = df.reset_index(drop = True)\n",
    "    percentage = []\n",
    "\n",
    "\n",
    "    for row in range(df.shape[0]):\n",
    "        percentage.append(classify_prediction(df, row))\n",
    "        \n",
    "    print(df.shape)\n",
    "\n",
    "    df['PredictedPercentage'] = percentage\n",
    "    return df\n",
    "    \n",
    "# testing using the full dataset (with one row per class)\n",
    "df.shape\n",
    "make_predictions(df)\n",
    "df.to_csv(\"brendans.csv\")"
   ]
  },
  {
   "cell_type": "code",
   "execution_count": 46,
   "metadata": {
    "collapsed": false
   },
   "outputs": [
    {
     "data": {
      "text/html": [
       "<div>\n",
       "<table border=\"1\" class=\"dataframe\">\n",
       "  <thead>\n",
       "    <tr style=\"text-align: right;\">\n",
       "      <th></th>\n",
       "      <th>room_id</th>\n",
       "      <th>Room</th>\n",
       "      <th>Capacity</th>\n",
       "      <th>Date</th>\n",
       "      <th>SurveyPercentage</th>\n",
       "      <th>GroundTruth</th>\n",
       "      <th>MaxCount</th>\n",
       "      <th>AverageCount</th>\n",
       "      <th>MedianCount</th>\n",
       "      <th>ModeCount</th>\n",
       "      <th>Predictions</th>\n",
       "    </tr>\n",
       "  </thead>\n",
       "  <tbody>\n",
       "    <tr>\n",
       "      <th>0</th>\n",
       "      <td>3</td>\n",
       "      <td>B-004</td>\n",
       "      <td>160</td>\n",
       "      <td>2015-11-03 09:00:00</td>\n",
       "      <td>75</td>\n",
       "      <td>120</td>\n",
       "      <td>130</td>\n",
       "      <td>102.25</td>\n",
       "      <td>120.5</td>\n",
       "      <td>62</td>\n",
       "      <td>86.472669</td>\n",
       "    </tr>\n",
       "    <tr>\n",
       "      <th>1</th>\n",
       "      <td>1</td>\n",
       "      <td>B-002</td>\n",
       "      <td>90</td>\n",
       "      <td>2015-11-03 09:00:00</td>\n",
       "      <td>0</td>\n",
       "      <td>0</td>\n",
       "      <td>21</td>\n",
       "      <td>4.75</td>\n",
       "      <td>2.0</td>\n",
       "      <td>2</td>\n",
       "      <td>8.836901</td>\n",
       "    </tr>\n",
       "  </tbody>\n",
       "</table>\n",
       "</div>"
      ],
      "text/plain": [
       "   room_id   Room  Capacity                 Date  SurveyPercentage  \\\n",
       "0        3  B-004       160  2015-11-03 09:00:00                75   \n",
       "1        1  B-002        90  2015-11-03 09:00:00                 0   \n",
       "\n",
       "   GroundTruth  MaxCount  AverageCount  MedianCount  ModeCount  Predictions  \n",
       "0          120       130        102.25        120.5         62    86.472669  \n",
       "1            0        21          4.75          2.0          2     8.836901  "
      ]
     },
     "execution_count": 46,
     "metadata": {},
     "output_type": "execute_result"
    }
   ],
   "source": [
    "#velda added\n",
    "#df2 = pd.DataFrame(columns=df.columns)\n",
    "df2 = df.copy(deep=True)\n",
    "df2.head(2)"
   ]
  },
  {
   "cell_type": "code",
   "execution_count": 47,
   "metadata": {
    "collapsed": false
   },
   "outputs": [
    {
     "name": "stdout",
     "output_type": "stream",
     "text": [
      "\n",
      "Mean Squared Error:\n",
      " 317.68001523944594\n",
      "Mean absolute error is: \n",
      "13.620105513924129\n"
     ]
    }
   ],
   "source": [
    "#df2 = pd.DataFrame(columns=df.columns)\n",
    "\n",
    "test_predictions = lm.predict(df2)\n",
    "test_predictions\n",
    "\n",
    "df2['Predictions'] = test_predictions\n",
    "\n",
    "\n",
    "\n",
    "#print(\"Actual - Predicted:\\n\", (df2['GroundTruth'] - df2['Predictions']))\n",
    "#print(\"\\n(Actual - Predicted) squared:\\n\", (df2['GroundTruth'] - df2['Predictions'])**2)\n",
    "\n",
    "# Mean squared error on the test set\n",
    "mse = ((df2['GroundTruth'] - df2['Predictions'])**2).mean()\n",
    "print(\"\\nMean Squared Error:\\n\", mse)\n",
    "\n",
    "#print(\"Absolute value for Actual - Predicted:\\n\", abs((df2['GroundTruth'] - df2['Predictions'])))\n",
    "\n",
    "mae = abs(df2['GroundTruth'] - df2['Predictions']).mean()\n",
    "print(\"Mean absolute error is: \\n{}\".format(mae))"
   ]
  },
  {
   "cell_type": "code",
   "execution_count": 32,
   "metadata": {
    "collapsed": false,
    "scrolled": true
   },
   "outputs": [
    {
     "name": "stdout",
     "output_type": "stream",
     "text": [
      "Shape of df_test is (65, 11)\n"
     ]
    },
    {
     "data": {
      "text/html": [
       "<div>\n",
       "<table border=\"1\" class=\"dataframe\">\n",
       "  <thead>\n",
       "    <tr style=\"text-align: right;\">\n",
       "      <th></th>\n",
       "      <th>room_id</th>\n",
       "      <th>Room</th>\n",
       "      <th>Capacity</th>\n",
       "      <th>Date</th>\n",
       "      <th>SurveyPercentage</th>\n",
       "      <th>GroundTruth</th>\n",
       "      <th>MaxCount</th>\n",
       "      <th>AverageCount</th>\n",
       "      <th>MedianCount</th>\n",
       "      <th>ModeCount</th>\n",
       "      <th>Predictions</th>\n",
       "      <th>PredictedPercentage</th>\n",
       "    </tr>\n",
       "  </thead>\n",
       "  <tbody>\n",
       "    <tr>\n",
       "      <th>0</th>\n",
       "      <td>1</td>\n",
       "      <td>B-002</td>\n",
       "      <td>90</td>\n",
       "      <td>2015-11-11 11:00:00</td>\n",
       "      <td>25</td>\n",
       "      <td>22.5</td>\n",
       "      <td>21</td>\n",
       "      <td>10.909091</td>\n",
       "      <td>10.0</td>\n",
       "      <td>8</td>\n",
       "      <td>14.402211</td>\n",
       "      <td>0</td>\n",
       "    </tr>\n",
       "    <tr>\n",
       "      <th>1</th>\n",
       "      <td>2</td>\n",
       "      <td>B-003</td>\n",
       "      <td>90</td>\n",
       "      <td>2015-11-11 11:00:00</td>\n",
       "      <td>75</td>\n",
       "      <td>67.5</td>\n",
       "      <td>44</td>\n",
       "      <td>18.272727</td>\n",
       "      <td>15.0</td>\n",
       "      <td>7</td>\n",
       "      <td>17.763358</td>\n",
       "      <td>0</td>\n",
       "    </tr>\n",
       "    <tr>\n",
       "      <th>2</th>\n",
       "      <td>3</td>\n",
       "      <td>B-004</td>\n",
       "      <td>160</td>\n",
       "      <td>2015-11-11 12:00:00</td>\n",
       "      <td>25</td>\n",
       "      <td>40.0</td>\n",
       "      <td>75</td>\n",
       "      <td>60.333333</td>\n",
       "      <td>70.0</td>\n",
       "      <td>48</td>\n",
       "      <td>54.735980</td>\n",
       "      <td>50</td>\n",
       "    </tr>\n",
       "    <tr>\n",
       "      <th>3</th>\n",
       "      <td>1</td>\n",
       "      <td>B-002</td>\n",
       "      <td>90</td>\n",
       "      <td>2015-11-11 12:00:00</td>\n",
       "      <td>25</td>\n",
       "      <td>22.5</td>\n",
       "      <td>44</td>\n",
       "      <td>37.083333</td>\n",
       "      <td>39.5</td>\n",
       "      <td>24</td>\n",
       "      <td>34.232981</td>\n",
       "      <td>50</td>\n",
       "    </tr>\n",
       "    <tr>\n",
       "      <th>4</th>\n",
       "      <td>2</td>\n",
       "      <td>B-003</td>\n",
       "      <td>90</td>\n",
       "      <td>2015-11-11 12:00:00</td>\n",
       "      <td>75</td>\n",
       "      <td>67.5</td>\n",
       "      <td>97</td>\n",
       "      <td>81.500000</td>\n",
       "      <td>88.5</td>\n",
       "      <td>40</td>\n",
       "      <td>67.172225</td>\n",
       "      <td>50</td>\n",
       "    </tr>\n",
       "  </tbody>\n",
       "</table>\n",
       "</div>"
      ],
      "text/plain": [
       "   room_id   Room  Capacity                 Date  SurveyPercentage  \\\n",
       "0        1  B-002        90  2015-11-11 11:00:00                25   \n",
       "1        2  B-003        90  2015-11-11 11:00:00                75   \n",
       "2        3  B-004       160  2015-11-11 12:00:00                25   \n",
       "3        1  B-002        90  2015-11-11 12:00:00                25   \n",
       "4        2  B-003        90  2015-11-11 12:00:00                75   \n",
       "\n",
       "   GroundTruth  MaxCount  AverageCount  MedianCount  ModeCount  Predictions  \\\n",
       "0         22.5        21     10.909091         10.0          8    14.402211   \n",
       "1         67.5        44     18.272727         15.0          7    17.763358   \n",
       "2         40.0        75     60.333333         70.0         48    54.735980   \n",
       "3         22.5        44     37.083333         39.5         24    34.232981   \n",
       "4         67.5        97     81.500000         88.5         40    67.172225   \n",
       "\n",
       "   PredictedPercentage  \n",
       "0                    0  \n",
       "1                    0  \n",
       "2                   50  \n",
       "3                   50  \n",
       "4                   50  "
      ]
     },
     "execution_count": 32,
     "metadata": {},
     "output_type": "execute_result"
    }
   ],
   "source": [
    "def classify_prediction(df, i):\n",
    "\n",
    "    # passing in this: df2_test.Predictions[row], row\n",
    "    prediction = df.Predictions[i]\n",
    "    \n",
    "    capacity = df.Capacity[i]\n",
    "    # selects the relevant capacity value for the room and assigns to a variable\n",
    "    percentile_0 = 0\n",
    "    percentile_25 = capacity * 0.25\n",
    "    percentile_50 = capacity * 0.5\n",
    "    percentile_75 = capacity * 0.75\n",
    "    percentile_100 = capacity\n",
    "    \n",
    "# This is going to be disgusting, I'd like to find a better way of doing it.\n",
    "    \n",
    "#     if prediction <= (percentile_25 - ((percentile_25 - percentile_0)/2)):\n",
    "#         return 0\n",
    "#     # if prediction is closer to 0% than 25%, return 0%\n",
    "#     # in this case: if prediction(43) is less than (40 - ((40-0)/2))\n",
    "#     # so between range of 0 to 20\n",
    "#     elif prediction >= percentile_25 - ((percentile_25 - percentile_0)/2) and prediction <= percentile_50 - ((percentile_50 - percentile_25)/2):\n",
    "#         return 25\n",
    "#     # if prediction (43) is greater than 20 and less than 60\n",
    "#     elif prediction >= percentile_50 - ((percentile_50 - percentile_25)/2) and prediction <= percentile_75 - ((percentile_75 - percentile_50)/2):\n",
    "#         return 50\n",
    "#     # if prediction is greater than 60 and less than 100\n",
    "#     elif prediction >= percentile_75 - ((percentile_75 - percentile_50)/2) and prediction <= percentile_100 - ((percentile_100 - percentile_75)/2):\n",
    "#         return 75\n",
    "#     # if prediction is greater than 100 and less than 140\n",
    "#     elif prediction >= percentile_100 - ((percentile_100 - percentile_75)/2):\n",
    "#         return 100\n",
    "\n",
    "# making ternary bins rather than original 0/25/50/75/100\n",
    "    if prediction <= (percentile_50 - ((percentile_50 - percentile_0)/2)):\n",
    "        return 0\n",
    "    elif prediction >= percentile_50 - ((percentile_50 - percentile_0)/2) and prediction <= percentile_100 - ((percentile_100 - percentile_50)/2):\n",
    "        return 50\n",
    "    # if prediction (43) is greater than 20 and less than 60\n",
    "    elif prediction >= percentile_100 - ((percentile_100 - percentile_50)/2):\n",
    "        return 100\n",
    "\n",
    "# roomdf2_test['PredictedPercentage'] = roomdf2_test['Predictions'].map(classify_prediction)\n",
    "# roomdf2_test\n",
    "\n",
    "#df_test = df_test.reset_index(drop = True)\n",
    "#percentage = []\n",
    "\n",
    "print(\"Shape of df_test is {}\".format(df_test.shape))\n",
    "\n",
    "for row in range(df2.shape[0]):\n",
    "    percentage.append(classify_prediction(df2, row))\n",
    "\n",
    "df2['PredictedPercentage'] = percentage\n",
    "df2.head()\n",
    "\n",
    "# my_series.apply((lambda x: your_func(a,b,c,d,...,x)))\n",
    "# my_series.apply(your_function, args=(2,3,4), extra_kw=1)\n",
    "\n",
    "# mapping values to new column\n",
    "# http://stackoverflow.com/questions/21029128/updating-pandas-dataframe-via-for-loops"
   ]
  },
  {
   "cell_type": "code",
   "execution_count": 48,
   "metadata": {
    "collapsed": true
   },
   "outputs": [],
   "source": [
    "df2.to_csv(\"df2a.csv\")"
   ]
  }
 ],
 "metadata": {
  "kernelspec": {
   "display_name": "Python 3",
   "language": "python",
   "name": "python3"
  },
  "language_info": {
   "codemirror_mode": {
    "name": "ipython",
    "version": 3
   },
   "file_extension": ".py",
   "mimetype": "text/x-python",
   "name": "python",
   "nbconvert_exporter": "python",
   "pygments_lexer": "ipython3",
   "version": "3.5.1"
  }
 },
 "nbformat": 4,
 "nbformat_minor": 0
}
